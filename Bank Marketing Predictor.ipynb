{
 "cells": [
  {
   "cell_type": "code",
   "execution_count": 83,
   "id": "c3605df1-ce6d-42ad-a66b-169d19dbaab6",
   "metadata": {},
   "outputs": [
    {
     "name": "stdout",
     "output_type": "stream",
     "text": [
      "Imported\n"
     ]
    }
   ],
   "source": [
    "import pandas as pd\n",
    "import numpy as np\n",
    "from sklearn.model_selection import train_test_split\n",
    "from sklearn.preprocessing import StandardScaler, LabelEncoder\n",
    "from sklearn.ensemble import RandomForestClassifier\n",
    "from sklearn.linear_model import LogisticRegression\n",
    "from sklearn.metrics import accuracy_score, precision_score, recall_score, f1_score, roc_auc_score, confusion_matrix, log_loss\n",
    "print(\"Imported\")"
   ]
  },
  {
   "cell_type": "code",
   "execution_count": 84,
   "id": "a99b9f14-fd6c-4792-9ad0-a28f062917af",
   "metadata": {},
   "outputs": [
    {
     "name": "stdout",
     "output_type": "stream",
     "text": [
      "   age           job  marital  education default  balance housing loan  \\\n",
      "0   58    management  married   tertiary      no     2143     yes   no   \n",
      "1   44    technician   single  secondary      no       29     yes   no   \n",
      "2   33  entrepreneur  married  secondary      no        2     yes  yes   \n",
      "\n",
      "   contact  day month  duration  campaign  pdays  previous poutcome   y  \n",
      "0  unknown    5   may       261         1     -1         0  unknown  no  \n",
      "1  unknown    5   may       151         1     -1         0  unknown  no  \n",
      "2  unknown    5   may        76         1     -1         0  unknown  no  \n",
      "Number of rows: 45211\n"
     ]
    }
   ],
   "source": [
    "bank_df = pd.read_csv('bank/bank-full.csv', sep=';')\n",
    "print(bank_df.head(3))\n",
    "print(f\"Number of rows: {len(bank_df)}\") "
   ]
  },
  {
   "cell_type": "code",
   "execution_count": 93,
   "id": "683669ec-134d-4cc6-ab98-3674ae55cc98",
   "metadata": {},
   "outputs": [
    {
     "name": "stdout",
     "output_type": "stream",
     "text": [
      "duration             0.394521\n",
      "pdays                0.103621\n",
      "previous             0.093236\n",
      "education_encoded    0.066241\n",
      "balance              0.052838\n",
      "marital_encoded      0.045588\n",
      "job_encoded          0.040438\n",
      "age                  0.025155\n",
      "default_encoded     -0.022419\n",
      "month_encoded       -0.024471\n",
      "day                 -0.028348\n",
      "loan_encoded        -0.068185\n",
      "campaign            -0.073172\n",
      "poutcome_encoded    -0.077840\n",
      "housing_encoded     -0.139173\n",
      "contact_encoded     -0.148395\n",
      "dtype: float64\n"
     ]
    }
   ],
   "source": [
    "correlations = x.corrwith(y)\n",
    "print(correlations.sort_values(ascending=False))"
   ]
  },
  {
   "cell_type": "code",
   "execution_count": 86,
   "id": "b96bc335-16c3-4036-90d3-f6f8344f505a",
   "metadata": {},
   "outputs": [
    {
     "name": "stdout",
     "output_type": "stream",
     "text": [
      "['age', 'job', 'marital', 'education', 'default', 'balance', 'housing', 'loan', 'contact', 'day', 'month', 'duration', 'campaign', 'pdays', 'previous', 'poutcome', 'y']\n"
     ]
    }
   ],
   "source": [
    "print(bank_df.columns.tolist())"
   ]
  },
  {
   "cell_type": "code",
   "execution_count": 87,
   "id": "a5c35438-d536-4a7d-992a-7223e13398f4",
   "metadata": {},
   "outputs": [
    {
     "name": "stdout",
     "output_type": "stream",
     "text": [
      "Series([], dtype: int64)\n",
      "            age    job  marital  education  default  balance  housing   loan  \\\n",
      "poutcome                                                                       \n",
      "failure    4901   4901     4901       4901     4901     4901     4901   4901   \n",
      "other      1840   1840     1840       1840     1840     1840     1840   1840   \n",
      "success    1511   1511     1511       1511     1511     1511     1511   1511   \n",
      "unknown   36959  36959    36959      36959    36959    36959    36959  36959   \n",
      "\n",
      "          contact    day  month  duration  campaign  pdays  previous      y  \n",
      "poutcome                                                                     \n",
      "failure      4901   4901   4901      4901      4901   4901      4901   4901  \n",
      "other        1840   1840   1840      1840      1840   1840      1840   1840  \n",
      "success      1511   1511   1511      1511      1511   1511      1511   1511  \n",
      "unknown     36959  36959  36959     36959     36959  36959     36959  36959  \n"
     ]
    }
   ],
   "source": [
    "#check if any columns have null values\n",
    "missing_counts = bank_df.isnull().sum()\n",
    "print(missing_counts[missing_counts > 0])\n",
    "print(bank_df.groupby('poutcome').count())"
   ]
  },
  {
   "cell_type": "code",
   "execution_count": 88,
   "id": "1763ee2b-28b5-4b05-a818-04fca58ee064",
   "metadata": {},
   "outputs": [
    {
     "data": {
      "text/plain": [
       "<bound method DataFrame.info of        age           job   marital  education default  balance housing loan  \\\n",
       "0       58    management   married   tertiary      no     2143     yes   no   \n",
       "1       44    technician    single  secondary      no       29     yes   no   \n",
       "2       33  entrepreneur   married  secondary      no        2     yes  yes   \n",
       "3       47   blue-collar   married    unknown      no     1506     yes   no   \n",
       "4       33       unknown    single    unknown      no        1      no   no   \n",
       "...    ...           ...       ...        ...     ...      ...     ...  ...   \n",
       "45206   51    technician   married   tertiary      no      825      no   no   \n",
       "45207   71       retired  divorced    primary      no     1729      no   no   \n",
       "45208   72       retired   married  secondary      no     5715      no   no   \n",
       "45209   57   blue-collar   married  secondary      no      668      no   no   \n",
       "45210   37  entrepreneur   married  secondary      no     2971      no   no   \n",
       "\n",
       "         contact  day month  duration  campaign  pdays  previous poutcome    y  \n",
       "0        unknown    5   may       261         1     -1         0  unknown   no  \n",
       "1        unknown    5   may       151         1     -1         0  unknown   no  \n",
       "2        unknown    5   may        76         1     -1         0  unknown   no  \n",
       "3        unknown    5   may        92         1     -1         0  unknown   no  \n",
       "4        unknown    5   may       198         1     -1         0  unknown   no  \n",
       "...          ...  ...   ...       ...       ...    ...       ...      ...  ...  \n",
       "45206   cellular   17   nov       977         3     -1         0  unknown  yes  \n",
       "45207   cellular   17   nov       456         2     -1         0  unknown  yes  \n",
       "45208   cellular   17   nov      1127         5    184         3  success  yes  \n",
       "45209  telephone   17   nov       508         4     -1         0  unknown   no  \n",
       "45210   cellular   17   nov       361         2    188        11    other   no  \n",
       "\n",
       "[45211 rows x 17 columns]>"
      ]
     },
     "execution_count": 88,
     "metadata": {},
     "output_type": "execute_result"
    }
   ],
   "source": [
    "#drop duration feature\n",
    "bank_df.drop('duration', axis=1)\n",
    "bank_df.info"
   ]
  },
  {
   "cell_type": "code",
   "execution_count": 89,
   "id": "280ad210-9623-41ec-a395-82e859e7e1e7",
   "metadata": {},
   "outputs": [],
   "source": [
    "#hot encode values\n",
    "#binary columns\n",
    "for col in ['default', 'housing', 'loan', 'y']:\n",
    "    bank_df[col + \"_encoded\"] = bank_df[col].map({'yes': 1, 'no': 0})\n",
    "\n",
    "#categorical columns\n",
    "for col in ['job', 'marital', 'education', 'contact', 'month', 'poutcome']:\n",
    "    encoder = LabelEncoder()\n",
    "    bank_df[col + \"_encoded\"] = encoder.fit_transform(bank_df[col])\n",
    "#print(bank_df['job'].unique())\n",
    "#print(bank_df['job_encoded'].unique())"
   ]
  },
  {
   "cell_type": "code",
   "execution_count": 94,
   "id": "84fcb824-0720-454e-810d-78fb213c1fa6",
   "metadata": {},
   "outputs": [
    {
     "name": "stdout",
     "output_type": "stream",
     "text": [
      "Number of rows in x_train: 31647, Number of rows in x_test: 13564\n"
     ]
    }
   ],
   "source": [
    "#drop predictor column and have it as a separate df\n",
    "x = bank_df.drop(['default', 'housing', 'loan', 'y', 'job', 'marital', 'education', 'contact', 'month', 'poutcome', 'y_encoded'], axis=1)\n",
    "y = bank_df['y_encoded']\n",
    "\n",
    "x_train, x_test, y_train, y_test = train_test_split(x, y, test_size=0.3, random_state=5)\n",
    "print(f\"Number of rows in x_train: {len(x_train)}, Number of rows in x_test: {len(x_test)}\")"
   ]
  },
  {
   "cell_type": "code",
   "execution_count": 95,
   "id": "806e5912-afcb-4d89-9ae6-f024e2623024",
   "metadata": {},
   "outputs": [
    {
     "name": "stdout",
     "output_type": "stream",
     "text": [
      "<bound method DataFrame.info of        age  balance  day  duration  campaign  pdays  previous  \\\n",
      "42867   53     6571    3       208         1     -1         0   \n",
      "27173   50      231   21       397         2     -1         0   \n",
      "8875    39      518    4       608         2     -1         0   \n",
      "18330   42      634   31       451         2     -1         0   \n",
      "8306    58     1604    2       358         3     -1         0   \n",
      "...    ...      ...  ...       ...       ...    ...       ...   \n",
      "5520    54     -630   23       173         1     -1         0   \n",
      "35814   47      603    8      1080         1     -1         0   \n",
      "20463   58     1463   12       110         3     -1         0   \n",
      "18638   26        1   31        14        20     -1         0   \n",
      "35683   59     6237    8        63         1    169         2   \n",
      "\n",
      "       default_encoded  housing_encoded  loan_encoded  job_encoded  \\\n",
      "42867                0                0             0            4   \n",
      "27173                0                1             0            0   \n",
      "8875                 0                1             0            1   \n",
      "18330                0                0             0            0   \n",
      "8306                 0                1             0            5   \n",
      "...                ...              ...           ...          ...   \n",
      "5520                 0                0             0            1   \n",
      "35814                0                1             1            1   \n",
      "20463                0                1             0            9   \n",
      "18638                0                0             0           10   \n",
      "35683                0                1             0            6   \n",
      "\n",
      "       marital_encoded  education_encoded  contact_encoded  month_encoded  \\\n",
      "42867                1                  2                0              3   \n",
      "27173                1                  1                0              9   \n",
      "8875                 1                  1                2              6   \n",
      "18330                2                  2                0              5   \n",
      "8306                 1                  1                2              6   \n",
      "...                ...                ...              ...            ...   \n",
      "5520                 1                  1                2              8   \n",
      "35814                0                  0                0              8   \n",
      "20463                1                  1                0              1   \n",
      "18638                2                  1                1              5   \n",
      "35683                1                  2                0              8   \n",
      "\n",
      "       poutcome_encoded  \n",
      "42867                 3  \n",
      "27173                 3  \n",
      "8875                  3  \n",
      "18330                 3  \n",
      "8306                  3  \n",
      "...                 ...  \n",
      "5520                  3  \n",
      "35814                 3  \n",
      "20463                 3  \n",
      "18638                 3  \n",
      "35683                 0  \n",
      "\n",
      "[31647 rows x 16 columns]>\n"
     ]
    }
   ],
   "source": [
    "print(x_train.info)"
   ]
  },
  {
   "cell_type": "code",
   "execution_count": 97,
   "id": "18fec22e-5e3f-4d28-8250-503ed8fea43f",
   "metadata": {},
   "outputs": [
    {
     "name": "stdout",
     "output_type": "stream",
     "text": [
      "Done creating model\n"
     ]
    }
   ],
   "source": [
    "#creating the random forest model\n",
    "random_forest_model = RandomForestClassifier(random_state=5)\n",
    "random_forest_model.fit(x_train, y_train)\n",
    "y_pred = random_forest_model.predict(x_test)\n",
    "print(\"Done creating model\")"
   ]
  },
  {
   "cell_type": "code",
   "execution_count": 98,
   "id": "833926b0-104f-45e2-9adb-467ccd9790ee",
   "metadata": {},
   "outputs": [
    {
     "name": "stdout",
     "output_type": "stream",
     "text": [
      "0.9068858743733412\n",
      "0.6690140845070423\n",
      "0.5129193983802546\n",
      "[[11636   329]\n",
      " [  934   665]]\n"
     ]
    }
   ],
   "source": [
    "#checking accuracy of random forest model\n",
    "accuracy_rf = accuracy_score(y_test, y_pred)\n",
    "precision_rf = precision_score(y_test, y_pred)\n",
    "recall_rf = recall_score(y_test, y_pred)\n",
    "f1_rf = f1_score(y_test, y_pred)\n",
    "cm_rf = confusion_matrix(y_test, y_pred)\n",
    "print(accuracy)\n",
    "print(precision)\n",
    "print(f1)\n",
    "print(cm)"
   ]
  },
  {
   "cell_type": "code",
   "execution_count": 100,
   "id": "49f8a825-a9e7-474d-b922-342be2652775",
   "metadata": {},
   "outputs": [
    {
     "name": "stdout",
     "output_type": "stream",
     "text": [
      "Done creating model\n"
     ]
    }
   ],
   "source": [
    "#creating the logistic regression model\n",
    "log_model = LogisticRegression(random_state=5,max_iter=10000)\n",
    "log_model.fit(x_train, y_train)\n",
    "y_pred = log_model.predict(x_test)\n",
    "print(\"Done creating model\")"
   ]
  },
  {
   "cell_type": "code",
   "execution_count": 101,
   "id": "949db25a-ef31-4ad9-9389-a992b46f9467",
   "metadata": {},
   "outputs": [
    {
     "name": "stdout",
     "output_type": "stream",
     "text": [
      "0.8925833087584784\n",
      "0.6334586466165414\n",
      "0.3162834350070389\n",
      "[[11770   195]\n",
      " [ 1262   337]]\n"
     ]
    }
   ],
   "source": [
    "#checking accuracy of logistic regression model\n",
    "accuracy_log = accuracy_score(y_test, y_pred)\n",
    "precision_log = precision_score(y_test, y_pred)\n",
    "recall_log = recall_score(y_test, y_pred)\n",
    "f1_log = f1_score(y_test, y_pred)\n",
    "cm_log = confusion_matrix(y_test, y_pred)\n",
    "print(accuracy)\n",
    "print(precision)\n",
    "print(f1)\n",
    "print(cm)"
   ]
  },
  {
   "cell_type": "code",
   "execution_count": null,
   "id": "64b5697e-05e2-4613-aa94-a665202d2516",
   "metadata": {},
   "outputs": [],
   "source": []
  }
 ],
 "metadata": {
  "kernelspec": {
   "display_name": "Python 3 (ipykernel)",
   "language": "python",
   "name": "python3"
  },
  "language_info": {
   "codemirror_mode": {
    "name": "ipython",
    "version": 3
   },
   "file_extension": ".py",
   "mimetype": "text/x-python",
   "name": "python",
   "nbconvert_exporter": "python",
   "pygments_lexer": "ipython3",
   "version": "3.12.2"
  }
 },
 "nbformat": 4,
 "nbformat_minor": 5
}
